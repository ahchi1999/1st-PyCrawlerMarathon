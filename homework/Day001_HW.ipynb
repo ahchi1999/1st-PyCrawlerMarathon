#!/usr/bin/env python3
# -*- coding: utf-8 -*-
"""
Created on Thu Dec 10 09:40:43 2020

@author: yyc
"""

#!/usr/bin/env python3
# -*- coding: utf-8 -*-
"""
Created on Thu Dec 10 09:07:05 2020

@author: yyc
"""

from urllib.request import urlretrieve
import os

# 下載檔案到 Data 資料夾，存成檔名 Homework.txt
try:
    os.makedirs( './Data', exist_ok=True )
    urlretrieve("https://www.w3.org/TR/PNG/iso_8859-1.txt", "./Data/Homework.txt")
except:
    print('發生錯誤！')
    
# 檢查 Data 資料夾是否有 Homework.txt 檔名之檔案
files = []
files = os.listdir( "./Data" )

if 'Homework.txt' in files:
    print('[O] 檢查 Data 資料夾是否有 Homework.txt 檔名之檔案')
else:
    print('[X] 檢查 Data 資料夾是否有 Homework.txt 檔名之檔案')
    
# 將「Hello World」字串覆寫到 Homework.txt 檔案
f = 'Hello World'

with open("./Data/Homework.txt", "w") as fh:
    fh.write(f)

try:
    with open("./Data/Homework.txt", "r") as fh:
        fh.read()
        
except EnvironmentError: # parent of IOError, OSError *and* WindowsError where available
    pass    

# 檢查 Homework.txt 檔案字數是否符合 Hello World 字數
if len('Hello World') == len(f):
    print('[O] 檢查 Homework.txt 檔案字數是否符合 Hello World 字數')
else:
    print('[X] 檢查 Homework.txt 檔案字數是否符合 Hello World 字數')